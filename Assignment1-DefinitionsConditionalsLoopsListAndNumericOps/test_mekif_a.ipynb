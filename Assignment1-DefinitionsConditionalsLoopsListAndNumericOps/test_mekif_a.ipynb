{
 "cells": [
  {
   "cell_type": "code",
   "execution_count": 2,
   "metadata": {},
   "outputs": [],
   "source": [
    "day = input(\"Enter the day: \").lower()\n",
    "is_rainy = input(\"Is it raining? (Type anything for True, keep empty for False): \").lower()\n",
    "is_rainy = True if is_rainy else False"
   ]
  },
  {
   "cell_type": "code",
   "execution_count": null,
   "metadata": {},
   "outputs": [],
   "source": [
    "if (day == \"Monday\" or day == \"Wednesday\" or day == \"Friday\") and is_rainy is True:\n",
    "    print(\"Gym\")\n",
    "elif (day == \"Sunday\" or day == \"Tuesday\" or day == \"Thursday\") and is_rainy is True:\n",
    "    print(\"Library\")\n",
    "elif (day == \"Monday\" or day == \"Wednesday\" or day == \"Friday\") and is_rainy is False:\n",
    "    print(\"Swimming Pool\")\n",
    "elif (day == \"Sunday\" or day == \"Tuesday\" or day == \"Thursday\") and is_rainy is False:\n",
    "    print(\"Front Yard\")\n",
    "elif day in \"Saturday\":\n",
    "    print(\"Back Gate\")\n",
    "else:\n",
    "    print(\"Bad input!\")"
   ]
  },
  {
   "cell_type": "code",
   "execution_count": null,
   "metadata": {},
   "outputs": [],
   "source": [
    "# Variables (you can change these to test different scenarios)\n",
    "is_student = True\n",
    "time_of_day = \"Afternoon\"  # Options: \"Morning\", \"Afternoon\", \"Evening\"\n",
    "preference = \"Sweet\"        # Options: \"Sweet\", \"Non-sweet\""
   ]
  },
  {
   "cell_type": "code",
   "execution_count": null,
   "metadata": {},
   "outputs": [],
   "source": [
    "if time_of_day == \"Morning\":\n",
    "    if preference == \"Sweet\":\n",
    "        print(\"Orange Juice\")\n",
    "    elif preference == \"Non-sweet\":\n",
    "        print(\"Tea\")\n",
    "    else:\n",
    "        print(\"Bad preference!\")\n",
    "elif time_of_day == \"Afternoon\":\n",
    "    if preference == \"Sweet\":\n",
    "        print(\"Lemonade\")\n",
    "    elif preference == \"Non-sweet\":\n",
    "        print(\"Water\")\n",
    "    else:\n",
    "        print(\"Bad preference!\")\n",
    "elif time_of_day == \"Evening\":\n",
    "    if preference == \"Sweet\":\n",
    "        print(\"Hot Chocolate\")\n",
    "    elif preference == \"Non-sweet\":\n",
    "        print(\"More Tea\")\n",
    "    else:\n",
    "        print(\"Bad preference!\")\n",
    "else:\n",
    "    print(\"Bad time of day!\")\n"
   ]
  },
  {
   "cell_type": "code",
   "execution_count": 1,
   "metadata": {},
   "outputs": [
    {
     "name": "stdout",
     "output_type": "stream",
     "text": [
      "34 Alice\n",
      "35 Alice\n",
      "36 Alice\n",
      "37 Alice\n",
      "38 Alice\n"
     ]
    }
   ],
   "source": [
    "name = \"Alice\"\n",
    "start = 34\n",
    "end = 39\n",
    "for i in range(0, end - start):\n",
    "    print(start + i, name)\n",
    "    if i == len(name):\n",
    "        continue"
   ]
  },
  {
   "cell_type": "code",
   "execution_count": null,
   "metadata": {},
   "outputs": [],
   "source": [
    "sentence = input(\"Enter a sentence (or 'STOP' to finish): \")\n",
    "\n",
    "while sentence != \"STOP\":\n",
    "    longest_word = \"\"\n",
    "    word = input(\"Enter a word from the sentence (or 'DONE' to finish): \")\n",
    "\n",
    "    while word != \"DONE\":\n",
    "        if len(word) > len(longest_word):\n",
    "            longest_word = word\n",
    "        word = input(\"Enter a word from the sentence (or 'DONE' to finish): \")\n",
    "\n",
    "    print(\"The longest word in the sentence is: '\" + longest_word + \"' with length \" + str(len(longest_word)))\n",
    "    sentence = input(\"Enter a sentence (or 'STOP' to finish): \")"
   ]
  }
 ],
 "metadata": {
  "kernelspec": {
   "display_name": "Python 3",
   "language": "python",
   "name": "python3"
  },
  "language_info": {
   "codemirror_mode": {
    "name": "ipython",
    "version": 3
   },
   "file_extension": ".py",
   "mimetype": "text/x-python",
   "name": "python",
   "nbconvert_exporter": "python",
   "pygments_lexer": "ipython3",
   "version": "3.10.11"
  }
 },
 "nbformat": 4,
 "nbformat_minor": 2
}
